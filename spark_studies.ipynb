{
 "cells": [
  {
   "cell_type": "code",
   "execution_count": 104,
   "metadata": {
    "collapsed": false
   },
   "outputs": [],
   "source": [
    "from pyspark.sql import SQLContext, Row\n",
    "from pyspark.ml.feature import PCA\n",
    "from pyspark.mllib.feature import PCA as PCAmllib\n",
    "from pyspark.mllib.linalg import Vectors\n",
    "from pyspark import SparkConf, SparkContext\n",
    "from pyspark.ml.clustering import KMeans\n",
    "from numpy import array\n",
    "from math import sqrt\n",
    "import matplotlib.pyplot as plt\n",
    "%matplotlib inline\n"
   ]
  },
  {
   "cell_type": "code",
   "execution_count": 105,
   "metadata": {
    "collapsed": true
   },
   "outputs": [],
   "source": [
    "lines = sc.textFile(\"/home/ubuntu/yi/extracted_features/extracted_features\").map(lambda x:x.split(\" \"))\n",
    "lines = lines.map(lambda x:(x[0],[float(y) for y in x[1:]]))"
   ]
  },
  {
   "cell_type": "code",
   "execution_count": 106,
   "metadata": {
    "collapsed": true
   },
   "outputs": [],
   "source": [
    "def make_heatmap(df):\n",
    "    adf=df\n",
    "    #cols=[i for i in asd.columns if 'action' in i]+sorted([i for i in asd.columns if 'action' not in i])\n",
    "    #cols=sorted([i for i in asd.columns if 'action' not in i])\n",
    "    #cols.remove('count')\n",
    "    #cols.remove('prediction')\n",
    "    cols=sorted([i for i in adf.columns])\n",
    "    cols.remove('prediction')\n",
    "    #plotdf=asd[cols]\n",
    "    #plotdf=plotdf.iloc[:10,:]\n",
    "    plotdf = adf[cols]\n",
    "    plt.rcParams.update({'font.size': 2})\n",
    "    #plt.figure(figsize=(10, 10))\n",
    "    #cmap = sns.cubehelix_palette(dark=1,light=.3, as_cmap=True)\n",
    "    cmap=sns.light_palette(\"red\", as_cmap=True)\n",
    "    fig, ax = plt.subplots()\n",
    "    ax = sns.heatmap(((plotdf - plotdf.mean()) / (plotdf.max() - plotdf.min())).T \\\n",
    "                     ,cbar=True,xticklabels=range(0,20),linewidths=.5, vmin=-1,vmax=1,annot=True,fmt=\".2g\",annot_kws={\"size\": 20})#,cmap=cmap)\n",
    "    #ax.ticklabel_format\n",
    "    plt.xlabel('Cluster',size=20)\n",
    "    plt.ylabel('User-Level Features (Averages)',size=20)\n",
    "    plt.xticks(size=15)\n",
    "    plt.yticks(size=15)\n",
    "    fig.set_figwidth(25)\n",
    "    fig.set_figheight(10)\n",
    "    #fig.savefig('foo'+str(j)+'.png',figsize=(105,20))\n",
    "    #print j\n",
    "    #from IPython.display import Image\n",
    "    #Image(filename='foo.png') \n",
    "    pass"
   ]
  },
  {
   "cell_type": "code",
   "execution_count": 107,
   "metadata": {
    "collapsed": false
   },
   "outputs": [],
   "source": [
    "df = lines.map(lambda x: Row(labels=x[0],features=Vectors.dense(x[1]))).toDF()"
   ]
  },
  {
   "cell_type": "code",
   "execution_count": 108,
   "metadata": {
    "collapsed": false
   },
   "outputs": [],
   "source": [
    "kmeans = KMeans(k=20, seed=1,initSteps=5, tol=1e-4, maxIter=20, initMode=\"k-means||\", featuresCol=\"features\")\n",
    "model = kmeans.fit(df)\n"
   ]
  },
  {
   "cell_type": "code",
   "execution_count": 109,
   "metadata": {
    "collapsed": false
   },
   "outputs": [],
   "source": [
    "import re\n",
    "output_path = \"/home/ubuntu/yi/extracted_features\"\n",
    "outputfile = open(output_path + '/cluster_data', 'w')\n",
    "inputfile = open(output_path + '/clusterFeatures/kmeans20_Data', 'r')\n",
    "for line in inputfile:\n",
    "      x = line.split(\"=\")[3].split(\"'\")[1] + \" \"\n",
    "      x += line.split(\"=\")[2].split(\",\")[0]\n",
    "      \n",
    "      outputfile.write(x+'\\n')\n",
    "inputfile.close()\n",
    "outputfile.close()"
   ]
  },
  {
   "cell_type": "code",
   "execution_count": 110,
   "metadata": {
    "collapsed": false
   },
   "outputs": [],
   "source": [
    "kmFeatures = model.transform(df).select(\"features\", \"prediction\",\"labels\")"
   ]
  },
  {
   "cell_type": "code",
   "execution_count": 112,
   "metadata": {
    "collapsed": true
   },
   "outputs": [],
   "source": [
    "from pyspark.sql.functions import udf,lit\n",
    "from pyspark.sql.types import DoubleType,IntegerType\n",
    "\n",
    "def give_value(vector,idx):\n",
    "    return float(vector[idx])\n",
    "    \n",
    "\n",
    "give_value_udf=udf(give_value,DoubleType())\n",
    "\n"
   ]
  },
  {
   "cell_type": "code",
   "execution_count": 113,
   "metadata": {
    "collapsed": false
   },
   "outputs": [],
   "source": [
    "kmFeatures=kmFeatures.withColumn('ads_pattern',give_value_udf(kmFeatures.features,lit(0)))\n",
    "kmFeatures=kmFeatures.withColumn('ext_link',give_value_udf(kmFeatures.features,lit(1)))"
   ]
  },
  {
   "cell_type": "code",
   "execution_count": 114,
   "metadata": {
    "collapsed": false
   },
   "outputs": [
    {
     "name": "stdout",
     "output_type": "stream",
     "text": [
      "+----------+-----------------+------------------+------------------+\n",
      "|prediction|count(prediction)|     avg(ext_link)|  avg(ads_pattern)|\n",
      "+----------+-----------------+------------------+------------------+\n",
      "|         0|               15|             290.8|137.33333333333334|\n",
      "|         1|             4801|0.5988335763382628|0.5457196417413039|\n",
      "|         2|                7| 662.2857142857143| 43.57142857142857|\n",
      "|         3|              574| 9.893728222996515| 40.72996515679443|\n",
      "|         4|               24|            238.75|29.541666666666668|\n",
      "|         5|                3|            1087.0|2.3333333333333335|\n",
      "|         6|                2|              12.5|             657.0|\n",
      "|         7|              106|111.19811320754717| 14.30188679245283|\n",
      "|         8|             1141| 6.530236634531113| 19.44609991235758|\n",
      "|         9|               50|             11.26|            144.28|\n",
      "|        10|                2|            1545.0|               1.0|\n",
      "|        11|              679|25.503681885125186| 2.955817378497791|\n",
      "|        12|             3842| 6.089536699635606|1.7097865694950547|\n",
      "|        13|               15|414.46666666666664| 6.466666666666667|\n",
      "|        14|              132|56.484848484848484|11.924242424242424|\n",
      "|        15|              143|  44.6013986013986| 52.93706293706294|\n",
      "|        16|              266|13.364661654135338| 78.84586466165413|\n",
      "|        17|               17| 83.76470588235294| 164.2941176470588|\n",
      "|        18|               18|18.944444444444443|214.83333333333334|\n",
      "|        19|              693| 12.98989898989899|1.6464646464646464|\n",
      "+----------+-----------------+------------------+------------------+\n",
      "\n"
     ]
    }
   ],
   "source": [
    "kmGroup = kmFeatures.groupBy(\"prediction\").agg({'ads_pattern':'avg','ext_link':'avg','prediction':'count'}).show()"
   ]
  },
  {
   "cell_type": "code",
   "execution_count": 115,
   "metadata": {
    "collapsed": false
   },
   "outputs": [],
   "source": [
    "import seaborn as sns; sns.set()"
   ]
  },
  {
   "cell_type": "code",
   "execution_count": 116,
   "metadata": {
    "collapsed": false
   },
   "outputs": [],
   "source": [
    "p=kmFeatures.groupBy(\"prediction\").agg({'ads_pattern':'avg','ext_link':'avg','prediction':'count'}).toPandas()"
   ]
  },
  {
   "cell_type": "code",
   "execution_count": 117,
   "metadata": {
    "collapsed": false
   },
   "outputs": [
    {
     "data": {
      "image/png": "[encoded data removed]",
      "text/plain": [
       "<matplotlib.figure.Figure at 0x7ff36003b890>"
      ]
     },
     "metadata": {},
     "output_type": "display_data"
    }
   ],
   "source": [
    "make_heatmap(p)"
   ]
  },
  {
   "cell_type": "code",
   "execution_count": 118,
   "metadata": {
    "collapsed": false
   },
   "outputs": [
    {
     "name": "stdout",
     "output_type": "stream",
     "text": [
      "+-----------+----------+--------------+-----------+--------+-----+\n",
      "|   features|prediction|        labels|ads_pattern|ext_link|label|\n",
      "+-----------+----------+--------------+-----------+--------+-----+\n",
      "|  [0.0,0.0]|         1|     amazon875|        0.0|     0.0|  0.0|\n",
      "| [12.0,4.0]|         8|     moviecli4|       12.0|     4.0|  1.0|\n",
      "|  [0.0,0.0]|         1|      tumblr20|        0.0|     0.0|  0.0|\n",
      "| [4.0,14.0]|        19|      reddit43|        4.0|    14.0|  0.0|\n",
      "|[14.0,15.0]|         8|   tallahassee|       14.0|    15.0|  1.0|\n",
      "|  [9.0,1.0]|         1|    glassdoor3|        9.0|     1.0|  0.0|\n",
      "|  [0.0,3.0]|         1|inboxdollars78|        0.0|     3.0|  0.0|\n",
      "|  [5.0,1.0]|         1|       zillow8|        5.0|     1.0|  0.0|\n",
      "|  [0.0,0.0]|         1|       delta33|        0.0|     0.0|  0.0|\n",
      "|  [0.0,9.0]|        12|        msn172|        0.0|     9.0|  0.0|\n",
      "| [0.0,15.0]|        19|inboxdollars42|        0.0|    15.0|  0.0|\n",
      "|  [0.0,0.0]|         1|         pof45|        0.0|     0.0|  0.0|\n",
      "|[56.0,10.0]|         3|      newsmax3|       56.0|    10.0|  1.0|\n",
      "|  [0.0,1.0]|         1|   twinspires3|        0.0|     1.0|  0.0|\n",
      "|[45.0,41.0]|        15| wrestlinginc1|       45.0|    41.0|  1.0|\n",
      "|  [0.0,0.0]|         1|   priceline27|        0.0|     0.0|  0.0|\n",
      "|  [0.0,0.0]|         1|        bjpenn|        0.0|     0.0|  0.0|\n",
      "|[102.0,8.0]|        16|       regions|      102.0|     8.0|  1.0|\n",
      "|  [0.0,0.0]|         1|       delta26|        0.0|     0.0|  0.0|\n",
      "|  [0.0,5.0]|        12|      bestbuy8|        0.0|     5.0|  0.0|\n",
      "+-----------+----------+--------------+-----------+--------+-----+\n",
      "only showing top 20 rows\n",
      "\n"
     ]
    }
   ],
   "source": [
    "from pyspark.sql.types import DoubleType\n",
    "from pyspark.sql.functions import udf\n",
    "#kmFeatures = kmFeatures.withColumnRenamed('labels','file_name')\n",
    "def give_label(prediction):\n",
    "    if prediction in (0,2,3,4,5,6,7,8,9,10,11,13,14,15,16,17,18):\n",
    "        return float(1)\n",
    "    return float(0)\n",
    "    \n",
    "\n",
    "give_label_udf=udf(give_label,DoubleType())\n",
    "kmFeatures=kmFeatures.withColumn('label',give_label_udf(kmFeatures.prediction))\n",
    "kmFeatures.show()"
   ]
  },
  {
   "cell_type": "code",
   "execution_count": 145,
   "metadata": {
    "collapsed": false
   },
   "outputs": [
    {
     "name": "stdout",
     "output_type": "stream",
     "text": [
      "+-----+-----+\n",
      "|label|count|\n",
      "+-----+-----+\n",
      "|  1.0| 3194|\n",
      "|  0.0| 9336|\n",
      "+-----+-----+\n",
      "\n",
      "+-----------+--------------+-----------+--------+-----+\n",
      "|   features|        labels|ads_pattern|ext_link|label|\n",
      "+-----------+--------------+-----------+--------+-----+\n",
      "|  [0.0,0.0]|     amazon875|        0.0|     0.0|  0.0|\n",
      "| [12.0,4.0]|     moviecli4|       12.0|     4.0|  1.0|\n",
      "|  [0.0,0.0]|      tumblr20|        0.0|     0.0|  0.0|\n",
      "| [4.0,14.0]|      reddit43|        4.0|    14.0|  0.0|\n",
      "|[14.0,15.0]|   tallahassee|       14.0|    15.0|  1.0|\n",
      "|  [9.0,1.0]|    glassdoor3|        9.0|     1.0|  0.0|\n",
      "|  [0.0,3.0]|inboxdollars78|        0.0|     3.0|  0.0|\n",
      "|  [5.0,1.0]|       zillow8|        5.0|     1.0|  0.0|\n",
      "|  [0.0,0.0]|       delta33|        0.0|     0.0|  0.0|\n",
      "|  [0.0,9.0]|        msn172|        0.0|     9.0|  0.0|\n",
      "| [0.0,15.0]|inboxdollars42|        0.0|    15.0|  0.0|\n",
      "|  [0.0,0.0]|         pof45|        0.0|     0.0|  0.0|\n",
      "|[56.0,10.0]|      newsmax3|       56.0|    10.0|  1.0|\n",
      "|  [0.0,1.0]|   twinspires3|        0.0|     1.0|  0.0|\n",
      "|[45.0,41.0]| wrestlinginc1|       45.0|    41.0|  1.0|\n",
      "|  [0.0,0.0]|   priceline27|        0.0|     0.0|  0.0|\n",
      "|  [0.0,0.0]|        bjpenn|        0.0|     0.0|  0.0|\n",
      "|[102.0,8.0]|       regions|      102.0|     8.0|  1.0|\n",
      "|  [0.0,0.0]|       delta26|        0.0|     0.0|  0.0|\n",
      "|  [0.0,5.0]|      bestbuy8|        0.0|     5.0|  0.0|\n",
      "+-----------+--------------+-----------+--------+-----+\n",
      "only showing top 20 rows\n",
      "\n"
     ]
    }
   ],
   "source": [
    "kmFeatures.groupBy(\"label\").count().show()\n",
    "labelData = kmFeatures.drop('prediction').show()\n"
   ]
  },
  {
   "cell_type": "code",
   "execution_count": 192,
   "metadata": {
    "collapsed": false
   },
   "outputs": [],
   "source": [
    "from pyspark.ml.classification import LogisticRegression\n",
    "from pyspark.ml.evaluation import BinaryClassificationEvaluator\n",
    "from pyspark.ml.tuning import CrossValidator, ParamGridBuilder\n",
    "#lr = LogisticRegression(maxIter=10, regParam=0.01)\n",
    "lr = LogisticRegression()\n",
    "grid = ParamGridBuilder().addGrid(lr.maxIter, [10]).addGrid(lr.regParam, [0.01,0.05,1.00,2.00])\\\n",
    ".addGrid(lr.threshold, [0.5,0.6,0.7,0.8,0.9]).build()\n",
    "evaluator = BinaryClassificationEvaluator()\n",
    "cv = CrossValidator(estimator=lr, numFolds=10, estimatorParamMaps=grid, evaluator=evaluator)"
   ]
  },
  {
   "cell_type": "code",
   "execution_count": null,
   "metadata": {
    "collapsed": true
   },
   "outputs": [],
   "source": [
    "cvModel = cv.fit(labelData)\n",
    "evaluator.evaluate(cvModel.transform(labelData))"
   ]
  },
  {
   "cell_type": "code",
   "execution_count": 173,
   "metadata": {
    "collapsed": false
   },
   "outputs": [
    {
     "data": {
      "text/plain": [
       "-2.5426423499654764"
      ]
     },
     "execution_count": 173,
     "metadata": {},
     "output_type": "execute_result"
    }
   ],
   "source": [
    "cvModel.bestModel.intercept"
   ]
  },
  {
   "cell_type": "code",
   "execution_count": 97,
   "metadata": {
    "collapsed": false
   },
   "outputs": [],
   "source": [
    "training, test = labelData.randomSplit([0.7, 0.3])\n",
    "lr_model = lr.fit(training)"
   ]
  },
  {
   "cell_type": "code",
   "execution_count": 129,
   "metadata": {
    "collapsed": false
   },
   "outputs": [],
   "source": [
    "result = lr_model.transform(test).head()\n",
    "output = lr_model.transform(test)"
   ]
  },
  {
   "cell_type": "code",
   "execution_count": 144,
   "metadata": {
    "collapsed": false
   },
   "outputs": [
    {
     "data": {
      "text/plain": [
       "DenseVector([2.6019, -2.6019])"
      ]
     },
     "execution_count": 144,
     "metadata": {},
     "output_type": "execute_result"
    }
   ],
   "source": [
    "result.prediction\n",
    "result.probability\n",
    "result.rawPrediction"
   ]
  },
  {
   "cell_type": "code",
   "execution_count": 130,
   "metadata": {
    "collapsed": false
   },
   "outputs": [
    {
     "name": "stdout",
     "output_type": "stream",
     "text": [
      "+---------+---------+-----------+--------+-----+--------------------+--------------------+----------+\n",
      "| features|   labels|ads_pattern|ext_link|label|       rawPrediction|         probability|prediction|\n",
      "+---------+---------+-----------+--------+-----+--------------------+--------------------+----------+\n",
      "|[0.0,0.0]|      aaa|        0.0|     0.0|  0.0|[2.60191106312927...|[0.93098447120251...|       0.0|\n",
      "|[0.0,0.0]|     aim0|        0.0|     0.0|  0.0|[2.60191106312927...|[0.93098447120251...|       0.0|\n",
      "|[0.0,0.0]|     aim1|        0.0|     0.0|  0.0|[2.60191106312927...|[0.93098447120251...|       0.0|\n",
      "|[0.0,0.0]|     aim2|        0.0|     0.0|  0.0|[2.60191106312927...|[0.93098447120251...|       0.0|\n",
      "|[0.0,0.0]|   amazon|        0.0|     0.0|  0.0|[2.60191106312927...|[0.93098447120251...|       0.0|\n",
      "|[0.0,0.0]|amazon109|        0.0|     0.0|  0.0|[2.60191106312927...|[0.93098447120251...|       0.0|\n",
      "|[0.0,0.0]|amazon127|        0.0|     0.0|  0.0|[2.60191106312927...|[0.93098447120251...|       0.0|\n",
      "|[0.0,0.0]|amazon139|        0.0|     0.0|  0.0|[2.60191106312927...|[0.93098447120251...|       0.0|\n",
      "|[0.0,0.0]| amazon15|        0.0|     0.0|  0.0|[2.60191106312927...|[0.93098447120251...|       0.0|\n",
      "|[0.0,0.0]|amazon159|        0.0|     0.0|  0.0|[2.60191106312927...|[0.93098447120251...|       0.0|\n",
      "|[0.0,0.0]|amazon180|        0.0|     0.0|  0.0|[2.60191106312927...|[0.93098447120251...|       0.0|\n",
      "|[0.0,0.0]|amazon206|        0.0|     0.0|  0.0|[2.60191106312927...|[0.93098447120251...|       0.0|\n",
      "|[0.0,0.0]|amazon220|        0.0|     0.0|  0.0|[2.60191106312927...|[0.93098447120251...|       0.0|\n",
      "|[0.0,0.0]|amazon238|        0.0|     0.0|  0.0|[2.60191106312927...|[0.93098447120251...|       0.0|\n",
      "|[0.0,0.0]|amazon256|        0.0|     0.0|  0.0|[2.60191106312927...|[0.93098447120251...|       0.0|\n",
      "|[0.0,0.0]|amazon275|        0.0|     0.0|  0.0|[2.60191106312927...|[0.93098447120251...|       0.0|\n",
      "|[0.0,0.0]|amazon305|        0.0|     0.0|  0.0|[2.60191106312927...|[0.93098447120251...|       0.0|\n",
      "|[0.0,0.0]|amazon363|        0.0|     0.0|  0.0|[2.60191106312927...|[0.93098447120251...|       0.0|\n",
      "|[0.0,0.0]|amazon373|        0.0|     0.0|  0.0|[2.60191106312927...|[0.93098447120251...|       0.0|\n",
      "|[0.0,0.0]|amazon400|        0.0|     0.0|  0.0|[2.60191106312927...|[0.93098447120251...|       0.0|\n",
      "+---------+---------+-----------+--------+-----+--------------------+--------------------+----------+\n",
      "only showing top 20 rows\n",
      "\n"
     ]
    }
   ],
   "source": [
    "output.show()"
   ]
  },
  {
   "cell_type": "code",
   "execution_count": 131,
   "metadata": {
    "collapsed": true
   },
   "outputs": [],
   "source": [
    "output = output.withColumnRenamed('labels','file_name')"
   ]
  },
  {
   "cell_type": "code",
   "execution_count": 132,
   "metadata": {
    "collapsed": false
   },
   "outputs": [
    {
     "name": "stdout",
     "output_type": "stream",
     "text": [
      "+---------+---------+-----------+--------+-----+--------------------+--------------------+----------+\n",
      "| features|file_name|ads_pattern|ext_link|label|       rawPrediction|         probability|prediction|\n",
      "+---------+---------+-----------+--------+-----+--------------------+--------------------+----------+\n",
      "|[0.0,0.0]|      aaa|        0.0|     0.0|  0.0|[2.60191106312927...|[0.93098447120251...|       0.0|\n",
      "|[0.0,0.0]|     aim0|        0.0|     0.0|  0.0|[2.60191106312927...|[0.93098447120251...|       0.0|\n",
      "|[0.0,0.0]|     aim1|        0.0|     0.0|  0.0|[2.60191106312927...|[0.93098447120251...|       0.0|\n",
      "|[0.0,0.0]|     aim2|        0.0|     0.0|  0.0|[2.60191106312927...|[0.93098447120251...|       0.0|\n",
      "|[0.0,0.0]|   amazon|        0.0|     0.0|  0.0|[2.60191106312927...|[0.93098447120251...|       0.0|\n",
      "|[0.0,0.0]|amazon109|        0.0|     0.0|  0.0|[2.60191106312927...|[0.93098447120251...|       0.0|\n",
      "|[0.0,0.0]|amazon127|        0.0|     0.0|  0.0|[2.60191106312927...|[0.93098447120251...|       0.0|\n",
      "|[0.0,0.0]|amazon139|        0.0|     0.0|  0.0|[2.60191106312927...|[0.93098447120251...|       0.0|\n",
      "|[0.0,0.0]| amazon15|        0.0|     0.0|  0.0|[2.60191106312927...|[0.93098447120251...|       0.0|\n",
      "|[0.0,0.0]|amazon159|        0.0|     0.0|  0.0|[2.60191106312927...|[0.93098447120251...|       0.0|\n",
      "|[0.0,0.0]|amazon180|        0.0|     0.0|  0.0|[2.60191106312927...|[0.93098447120251...|       0.0|\n",
      "|[0.0,0.0]|amazon206|        0.0|     0.0|  0.0|[2.60191106312927...|[0.93098447120251...|       0.0|\n",
      "|[0.0,0.0]|amazon220|        0.0|     0.0|  0.0|[2.60191106312927...|[0.93098447120251...|       0.0|\n",
      "|[0.0,0.0]|amazon238|        0.0|     0.0|  0.0|[2.60191106312927...|[0.93098447120251...|       0.0|\n",
      "|[0.0,0.0]|amazon256|        0.0|     0.0|  0.0|[2.60191106312927...|[0.93098447120251...|       0.0|\n",
      "|[0.0,0.0]|amazon275|        0.0|     0.0|  0.0|[2.60191106312927...|[0.93098447120251...|       0.0|\n",
      "|[0.0,0.0]|amazon305|        0.0|     0.0|  0.0|[2.60191106312927...|[0.93098447120251...|       0.0|\n",
      "|[0.0,0.0]|amazon363|        0.0|     0.0|  0.0|[2.60191106312927...|[0.93098447120251...|       0.0|\n",
      "|[0.0,0.0]|amazon373|        0.0|     0.0|  0.0|[2.60191106312927...|[0.93098447120251...|       0.0|\n",
      "|[0.0,0.0]|amazon400|        0.0|     0.0|  0.0|[2.60191106312927...|[0.93098447120251...|       0.0|\n",
      "+---------+---------+-----------+--------+-----+--------------------+--------------------+----------+\n",
      "only showing top 20 rows\n",
      "\n"
     ]
    }
   ],
   "source": [
    "output.show()"
   ]
  },
  {
   "cell_type": "code",
   "execution_count": 135,
   "metadata": {
    "collapsed": true
   },
   "outputs": [],
   "source": [
    "tp=output.filter(output.label==1).filter(output.prediction==output.label).count()\n",
    "fn=output.filter(output.label==1).filter(output.prediction!=output.label).count()\n",
    "tn=output.filter(output.label==0).filter(output.prediction==output.label).count()\n",
    "fp=output.filter(output.label==0).filter(output.prediction!=output.label).count()"
   ]
  },
  {
   "cell_type": "code",
   "execution_count": 141,
   "metadata": {
    "collapsed": false
   },
   "outputs": [
    {
     "data": {
      "text/plain": [
       "67.098703888335"
      ]
     },
     "execution_count": 141,
     "metadata": {},
     "output_type": "execute_result"
    }
   ],
   "source": [
    "sensitivity = tp/float(tp+fn)*100\n",
    "sensitivity"
   ]
  },
  {
   "cell_type": "code",
   "execution_count": 142,
   "metadata": {
    "collapsed": false
   },
   "outputs": [
    {
     "data": {
      "text/plain": [
       "100.0"
      ]
     },
     "execution_count": 142,
     "metadata": {},
     "output_type": "execute_result"
    }
   ],
   "source": [
    "specificity = tn/float(tn+fp)*100\n",
    "specificity"
   ]
  },
  {
   "cell_type": "code",
   "execution_count": 196,
   "metadata": {
    "collapsed": false
   },
   "outputs": [
    {
     "name": "stdout",
     "output_type": "stream",
     "text": [
      "+----------+--------------+-----------+--------+-----+\n",
      "|  features|        labels|ads_pattern|ext_link|label|\n",
      "+----------+--------------+-----------+--------+-----+\n",
      "| [0.0,0.0]|     amazon875|        0.0|     0.0|  0.0|\n",
      "|[4.0,14.0]|      reddit43|        4.0|    14.0|  0.0|\n",
      "| [0.0,3.0]|inboxdollars78|        0.0|     3.0|  0.0|\n",
      "| [5.0,1.0]|       zillow8|        5.0|     1.0|  0.0|\n",
      "| [0.0,0.0]|       delta33|        0.0|     0.0|  0.0|\n",
      "| [0.0,9.0]|        msn172|        0.0|     9.0|  0.0|\n",
      "|[0.0,15.0]|inboxdollars42|        0.0|    15.0|  0.0|\n",
      "| [0.0,0.0]|         pof45|        0.0|     0.0|  0.0|\n",
      "| [0.0,1.0]|   twinspires3|        0.0|     1.0|  0.0|\n",
      "| [0.0,0.0]|   priceline27|        0.0|     0.0|  0.0|\n",
      "| [0.0,0.0]|        bjpenn|        0.0|     0.0|  0.0|\n",
      "| [0.0,0.0]|       delta26|        0.0|     0.0|  0.0|\n",
      "| [0.0,5.0]|      bestbuy8|        0.0|     5.0|  0.0|\n",
      "| [0.0,0.0]|     amazon735|        0.0|     0.0|  0.0|\n",
      "| [0.0,2.0]|      charter6|        0.0|     2.0|  0.0|\n",
      "| [0.0,1.0]|          ksl5|        0.0|     1.0|  0.0|\n",
      "|[0.0,13.0]|       kmart20|        0.0|    13.0|  0.0|\n",
      "|[0.0,16.0]|        msn122|        0.0|    16.0|  0.0|\n",
      "| [0.0,9.0]|     directv26|        0.0|     9.0|  0.0|\n",
      "| [0.0,0.0]|     surfline0|        0.0|     0.0|  0.0|\n",
      "+----------+--------------+-----------+--------+-----+\n",
      "only showing top 20 rows\n",
      "\n"
     ]
    }
   ],
   "source": [
    "#########DOWN SAMPLING#########\n",
    "down_labelData = labelData.filter(labelData.label==0).sample(False,0.34) \\\n",
    ".unionAll(labelData.filter(labelData.label==1).sample(True,1.0))\n",
    "down_labelData.show()\n",
    "d_training, d_test = down_labelData.randomSplit([0.7, 0.3])"
   ]
  },
  {
   "cell_type": "code",
   "execution_count": 197,
   "metadata": {
    "collapsed": false
   },
   "outputs": [
    {
     "data": {
      "text/plain": [
       "0.9911684377824703"
      ]
     },
     "execution_count": 197,
     "metadata": {},
     "output_type": "execute_result"
    }
   ],
   "source": [
    "cvModel = cv.fit(d_training)\n",
    "evaluator.evaluate(cvModel.transform(d_training))"
   ]
  },
  {
   "cell_type": "code",
   "execution_count": 198,
   "metadata": {
    "collapsed": false
   },
   "outputs": [],
   "source": [
    "d_output = cvModel.transform(d_test)"
   ]
  },
  {
   "cell_type": "code",
   "execution_count": 175,
   "metadata": {
    "collapsed": true
   },
   "outputs": [],
   "source": [
    "lr_model = lr.fit(d_training)\n",
    "d_result = lr_model.transform(d_test).head()\n",
    "d_output = lr_model.transform(d_test)"
   ]
  },
  {
   "cell_type": "code",
   "execution_count": 199,
   "metadata": {
    "collapsed": true
   },
   "outputs": [],
   "source": [
    "d_tp=d_output.filter(d_output.label==1).filter(d_output.prediction==d_output.label).count()\n",
    "d_fn=d_output.filter(d_output.label==1).filter(d_output.prediction!=d_output.label).count()\n",
    "d_tn=d_output.filter(d_output.label==0).filter(d_output.prediction==d_output.label).count()\n",
    "d_fp=d_output.filter(d_output.label==0).filter(d_output.prediction!=d_output.label).count()"
   ]
  },
  {
   "cell_type": "code",
   "execution_count": 200,
   "metadata": {
    "collapsed": false
   },
   "outputs": [
    {
     "data": {
      "text/plain": [
       "81.81818181818183"
      ]
     },
     "execution_count": 200,
     "metadata": {},
     "output_type": "execute_result"
    }
   ],
   "source": [
    "d_sensitivity = d_tp/float(d_tp+d_fn)*100\n",
    "d_sensitivity"
   ]
  },
  {
   "cell_type": "code",
   "execution_count": 201,
   "metadata": {
    "collapsed": false
   },
   "outputs": [
    {
     "data": {
      "text/plain": [
       "99.48293691830403"
      ]
     },
     "execution_count": 201,
     "metadata": {},
     "output_type": "execute_result"
    }
   ],
   "source": [
    "d_specificity = d_tn/float(d_tn+d_fp)*100\n",
    "d_specificity"
   ]
  },
  {
   "cell_type": "code",
   "execution_count": 202,
   "metadata": {
    "collapsed": false
   },
   "outputs": [
    {
     "name": "stdout",
     "output_type": "stream",
     "text": [
      "+----------+--------------+-----------+--------+-----+\n",
      "|  features|        labels|ads_pattern|ext_link|label|\n",
      "+----------+--------------+-----------+--------+-----+\n",
      "| [0.0,0.0]|     amazon875|        0.0|     0.0|  0.0|\n",
      "| [0.0,0.0]|      tumblr20|        0.0|     0.0|  0.0|\n",
      "|[4.0,14.0]|      reddit43|        4.0|    14.0|  0.0|\n",
      "| [9.0,1.0]|    glassdoor3|        9.0|     1.0|  0.0|\n",
      "| [0.0,3.0]|inboxdollars78|        0.0|     3.0|  0.0|\n",
      "| [5.0,1.0]|       zillow8|        5.0|     1.0|  0.0|\n",
      "| [0.0,0.0]|       delta33|        0.0|     0.0|  0.0|\n",
      "| [0.0,9.0]|        msn172|        0.0|     9.0|  0.0|\n",
      "|[0.0,15.0]|inboxdollars42|        0.0|    15.0|  0.0|\n",
      "| [0.0,0.0]|         pof45|        0.0|     0.0|  0.0|\n",
      "| [0.0,1.0]|   twinspires3|        0.0|     1.0|  0.0|\n",
      "| [0.0,0.0]|   priceline27|        0.0|     0.0|  0.0|\n",
      "| [0.0,0.0]|        bjpenn|        0.0|     0.0|  0.0|\n",
      "| [0.0,0.0]|       delta26|        0.0|     0.0|  0.0|\n",
      "| [0.0,5.0]|      bestbuy8|        0.0|     5.0|  0.0|\n",
      "| [8.0,8.0]|petpeoplemeet1|        8.0|     8.0|  0.0|\n",
      "| [2.0,4.0]| entertainow12|        2.0|     4.0|  0.0|\n",
      "| [0.0,0.0]|     amazon735|        0.0|     0.0|  0.0|\n",
      "| [0.0,0.0]|      amazon97|        0.0|     0.0|  0.0|\n",
      "| [6.0,1.0]|        pch176|        6.0|     1.0|  0.0|\n",
      "+----------+--------------+-----------+--------+-----+\n",
      "only showing top 20 rows\n",
      "\n"
     ]
    }
   ],
   "source": [
    "#########UP SAMPLING#########\n",
    "up_labelData = labelData.filter(labelData.label==0).sample(False,1.0) \\\n",
    ".unionAll(labelData.filter(labelData.label==1).sample(True,2.92))\n",
    "up_labelData.show()\n",
    "u_training, u_test = up_labelData.randomSplit([0.7, 0.3])"
   ]
  },
  {
   "cell_type": "code",
   "execution_count": 203,
   "metadata": {
    "collapsed": false
   },
   "outputs": [
    {
     "data": {
      "text/plain": [
       "0.9898224860268854"
      ]
     },
     "execution_count": 203,
     "metadata": {},
     "output_type": "execute_result"
    }
   ],
   "source": [
    "cvModel = cv.fit(u_training)\n",
    "evaluator.evaluate(cvModel.transform(u_training))"
   ]
  },
  {
   "cell_type": "code",
   "execution_count": null,
   "metadata": {
    "collapsed": true
   },
   "outputs": [],
   "source": [
    "u_output = cvModel.bestModelbestModel.transform(u_test)"
   ]
  },
  {
   "cell_type": "code",
   "execution_count": 187,
   "metadata": {
    "collapsed": false
   },
   "outputs": [
    {
     "ename": "AttributeError",
     "evalue": "'LogisticRegressionModel' object has no attribute 'fit'",
     "output_type": "error",
     "traceback": [
      "\u001b[1;31m---------------------------------------------------------------------------\u001b[0m",
      "\u001b[1;31mAttributeError\u001b[0m                            Traceback (most recent call last)",
      "\u001b[1;32m<ipython-input-187-e6f5c401cde8>\u001b[0m in \u001b[0;36m<module>\u001b[1;34m()\u001b[0m\n\u001b[0;32m      1\u001b[0m \u001b[0mu_training\u001b[0m\u001b[1;33m,\u001b[0m \u001b[0mu_test\u001b[0m \u001b[1;33m=\u001b[0m \u001b[0mup_labelData\u001b[0m\u001b[1;33m.\u001b[0m\u001b[0mrandomSplit\u001b[0m\u001b[1;33m(\u001b[0m\u001b[1;33m[\u001b[0m\u001b[1;36m0.7\u001b[0m\u001b[1;33m,\u001b[0m \u001b[1;36m0.3\u001b[0m\u001b[1;33m]\u001b[0m\u001b[1;33m)\u001b[0m\u001b[1;33m\u001b[0m\u001b[0m\n\u001b[1;32m----> 2\u001b[1;33m \u001b[0mlr_model\u001b[0m \u001b[1;33m=\u001b[0m \u001b[0mcvModel\u001b[0m\u001b[1;33m.\u001b[0m\u001b[0mbestModel\u001b[0m\u001b[1;33m.\u001b[0m\u001b[0mfit\u001b[0m\u001b[1;33m(\u001b[0m\u001b[0mu_training\u001b[0m\u001b[1;33m)\u001b[0m\u001b[1;33m\u001b[0m\u001b[0m\n\u001b[0m\u001b[0;32m      3\u001b[0m \u001b[0mu_result\u001b[0m \u001b[1;33m=\u001b[0m \u001b[0mlr_model\u001b[0m\u001b[1;33m.\u001b[0m\u001b[0mtransform\u001b[0m\u001b[1;33m(\u001b[0m\u001b[0mu_test\u001b[0m\u001b[1;33m)\u001b[0m\u001b[1;33m.\u001b[0m\u001b[0mhead\u001b[0m\u001b[1;33m(\u001b[0m\u001b[1;33m)\u001b[0m\u001b[1;33m\u001b[0m\u001b[0m\n\u001b[0;32m      4\u001b[0m \u001b[0mu_output\u001b[0m \u001b[1;33m=\u001b[0m \u001b[0mlr_model\u001b[0m\u001b[1;33m.\u001b[0m\u001b[0mtransform\u001b[0m\u001b[1;33m(\u001b[0m\u001b[0mu_test\u001b[0m\u001b[1;33m)\u001b[0m\u001b[1;33m\u001b[0m\u001b[0m\n",
      "\u001b[1;31mAttributeError\u001b[0m: 'LogisticRegressionModel' object has no attribute 'fit'"
     ]
    }
   ],
   "source": [
    "u_training, u_test = up_labelData.randomSplit([0.7, 0.3])\n",
    "lr_model = lr.fit(u_training)\n",
    "u_result = lr_model.transform(u_test).head()\n",
    "u_output = lr_model.transform(u_test)"
   ]
  },
  {
   "cell_type": "code",
   "execution_count": 188,
   "metadata": {
    "collapsed": true
   },
   "outputs": [],
   "source": [
    "u_output = cvModel.bestModel.transform(u_test)"
   ]
  },
  {
   "cell_type": "code",
   "execution_count": 204,
   "metadata": {
    "collapsed": true
   },
   "outputs": [],
   "source": [
    "u_tp=u_output.filter(u_output.label==1).filter(u_output.prediction==u_output.label).count()\n",
    "u_fn=u_output.filter(u_output.label==1).filter(u_output.prediction!=u_output.label).count()\n",
    "u_tn=u_output.filter(u_output.label==0).filter(u_output.prediction==u_output.label).count()\n",
    "u_fp=u_output.filter(u_output.label==0).filter(u_output.prediction!=u_output.label).count()"
   ]
  },
  {
   "cell_type": "code",
   "execution_count": 205,
   "metadata": {
    "collapsed": false
   },
   "outputs": [
    {
     "data": {
      "text/plain": [
       "81.23268698060942"
      ]
     },
     "execution_count": 205,
     "metadata": {},
     "output_type": "execute_result"
    }
   ],
   "source": [
    "u_sensitivity = u_tp/float(u_tp+u_fn)*100\n",
    "u_sensitivity"
   ]
  },
  {
   "cell_type": "code",
   "execution_count": 206,
   "metadata": {
    "collapsed": false
   },
   "outputs": [
    {
     "data": {
      "text/plain": [
       "99.4731296101159"
      ]
     },
     "execution_count": 206,
     "metadata": {},
     "output_type": "execute_result"
    }
   ],
   "source": [
    "u_specificity = u_tn/float(u_tn+u_fp)*100\n",
    "u_specificity"
   ]
  },
  {
   "cell_type": "code",
   "execution_count": null,
   "metadata": {
    "collapsed": true
   },
   "outputs": [],
   "source": []
  }
 ],
 "metadata": {
  "kernelspec": {
   "display_name": "Python 2",
   "language": "python",
   "name": "python2"
  },
  "language_info": {
   "codemirror_mode": {
    "name": "ipython",
    "version": 2
   },
   "file_extension": ".py",
   "mimetype": "text/x-python",
   "name": "python",
   "nbconvert_exporter": "python",
   "pygments_lexer": "ipython2",
   "version": "2.7.6"
  }
 },
 "nbformat": 4,
 "nbformat_minor": 0
}
